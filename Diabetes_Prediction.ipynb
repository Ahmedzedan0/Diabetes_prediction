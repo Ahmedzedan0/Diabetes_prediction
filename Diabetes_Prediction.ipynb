{
  "nbformat": 4,
  "nbformat_minor": 0,
  "metadata": {
    "colab": {
      "name": "Diabetes_Prediction.ipynb",
      "provenance": [],
      "authorship_tag": "ABX9TyNYhDjrlpcQgLbPd3e42BNZ",
      "include_colab_link": true
    },
    "kernelspec": {
      "name": "python3",
      "display_name": "Python 3"
    },
    "language_info": {
      "name": "python"
    }
  },
  "cells": [
    {
      "cell_type": "markdown",
      "metadata": {
        "id": "view-in-github",
        "colab_type": "text"
      },
      "source": [
        "<a href=\"https://colab.research.google.com/github/Ahmedzedan0/Diabetes_prediction/blob/main/Diabetes_Prediction.ipynb\" target=\"_parent\"><img src=\"https://colab.research.google.com/assets/colab-badge.svg\" alt=\"Open In Colab\"/></a>"
      ]
    },
    {
      "cell_type": "markdown",
      "source": [
        "## 1) Import Dependencies"
      ],
      "metadata": {
        "id": "ohK060PN2Xbh"
      }
    },
    {
      "cell_type": "code",
      "source": [
        "import numpy as np\n",
        "import pandas as pd\n",
        "from sklearn.preprocessing import StandardScaler\n",
        "from sklearn.model_selection import train_test_split\n",
        "from sklearn import svm # svm: Support Vector Machine\n",
        "from sklearn.svm import SVC\n",
        "from sklearn.metrics import accuracy_score\n"
      ],
      "metadata": {
        "id": "Nmy4Ys8J2P38"
      },
      "execution_count": 34,
      "outputs": []
    },
    {
      "cell_type": "markdown",
      "source": [
        "## 2) Importing & Understanding Dataset "
      ],
      "metadata": {
        "id": "EyBUborO3TwE"
      }
    },
    {
      "cell_type": "code",
      "source": [
        "# loading the dataset as Pandas DataFrame\n",
        "diabetes_dataset = pd.read_csv('/content/diabetes.csv')\n",
        "diabetes_dataset.head()"
      ],
      "metadata": {
        "colab": {
          "base_uri": "https://localhost:8080/",
          "height": 206
        },
        "id": "bbCtu4wV3fl9",
        "outputId": "f78418bf-a2e2-4f59-8ef0-e58f2bc6dfb6"
      },
      "execution_count": 35,
      "outputs": [
        {
          "output_type": "execute_result",
          "data": {
            "text/plain": [
              "   Pregnancies  Glucose  BloodPressure  SkinThickness  Insulin   BMI  \\\n",
              "0            6      148             72             35        0  33.6   \n",
              "1            1       85             66             29        0  26.6   \n",
              "2            8      183             64              0        0  23.3   \n",
              "3            1       89             66             23       94  28.1   \n",
              "4            0      137             40             35      168  43.1   \n",
              "\n",
              "   DiabetesPedigreeFunction  Age  Outcome  \n",
              "0                     0.627   50        1  \n",
              "1                     0.351   31        0  \n",
              "2                     0.672   32        1  \n",
              "3                     0.167   21        0  \n",
              "4                     2.288   33        1  "
            ],
            "text/html": [
              "\n",
              "  <div id=\"df-49254f05-86fa-4f05-a9d2-99724e8366d4\">\n",
              "    <div class=\"colab-df-container\">\n",
              "      <div>\n",
              "<style scoped>\n",
              "    .dataframe tbody tr th:only-of-type {\n",
              "        vertical-align: middle;\n",
              "    }\n",
              "\n",
              "    .dataframe tbody tr th {\n",
              "        vertical-align: top;\n",
              "    }\n",
              "\n",
              "    .dataframe thead th {\n",
              "        text-align: right;\n",
              "    }\n",
              "</style>\n",
              "<table border=\"1\" class=\"dataframe\">\n",
              "  <thead>\n",
              "    <tr style=\"text-align: right;\">\n",
              "      <th></th>\n",
              "      <th>Pregnancies</th>\n",
              "      <th>Glucose</th>\n",
              "      <th>BloodPressure</th>\n",
              "      <th>SkinThickness</th>\n",
              "      <th>Insulin</th>\n",
              "      <th>BMI</th>\n",
              "      <th>DiabetesPedigreeFunction</th>\n",
              "      <th>Age</th>\n",
              "      <th>Outcome</th>\n",
              "    </tr>\n",
              "  </thead>\n",
              "  <tbody>\n",
              "    <tr>\n",
              "      <th>0</th>\n",
              "      <td>6</td>\n",
              "      <td>148</td>\n",
              "      <td>72</td>\n",
              "      <td>35</td>\n",
              "      <td>0</td>\n",
              "      <td>33.6</td>\n",
              "      <td>0.627</td>\n",
              "      <td>50</td>\n",
              "      <td>1</td>\n",
              "    </tr>\n",
              "    <tr>\n",
              "      <th>1</th>\n",
              "      <td>1</td>\n",
              "      <td>85</td>\n",
              "      <td>66</td>\n",
              "      <td>29</td>\n",
              "      <td>0</td>\n",
              "      <td>26.6</td>\n",
              "      <td>0.351</td>\n",
              "      <td>31</td>\n",
              "      <td>0</td>\n",
              "    </tr>\n",
              "    <tr>\n",
              "      <th>2</th>\n",
              "      <td>8</td>\n",
              "      <td>183</td>\n",
              "      <td>64</td>\n",
              "      <td>0</td>\n",
              "      <td>0</td>\n",
              "      <td>23.3</td>\n",
              "      <td>0.672</td>\n",
              "      <td>32</td>\n",
              "      <td>1</td>\n",
              "    </tr>\n",
              "    <tr>\n",
              "      <th>3</th>\n",
              "      <td>1</td>\n",
              "      <td>89</td>\n",
              "      <td>66</td>\n",
              "      <td>23</td>\n",
              "      <td>94</td>\n",
              "      <td>28.1</td>\n",
              "      <td>0.167</td>\n",
              "      <td>21</td>\n",
              "      <td>0</td>\n",
              "    </tr>\n",
              "    <tr>\n",
              "      <th>4</th>\n",
              "      <td>0</td>\n",
              "      <td>137</td>\n",
              "      <td>40</td>\n",
              "      <td>35</td>\n",
              "      <td>168</td>\n",
              "      <td>43.1</td>\n",
              "      <td>2.288</td>\n",
              "      <td>33</td>\n",
              "      <td>1</td>\n",
              "    </tr>\n",
              "  </tbody>\n",
              "</table>\n",
              "</div>\n",
              "      <button class=\"colab-df-convert\" onclick=\"convertToInteractive('df-49254f05-86fa-4f05-a9d2-99724e8366d4')\"\n",
              "              title=\"Convert this dataframe to an interactive table.\"\n",
              "              style=\"display:none;\">\n",
              "        \n",
              "  <svg xmlns=\"http://www.w3.org/2000/svg\" height=\"24px\"viewBox=\"0 0 24 24\"\n",
              "       width=\"24px\">\n",
              "    <path d=\"M0 0h24v24H0V0z\" fill=\"none\"/>\n",
              "    <path d=\"M18.56 5.44l.94 2.06.94-2.06 2.06-.94-2.06-.94-.94-2.06-.94 2.06-2.06.94zm-11 1L8.5 8.5l.94-2.06 2.06-.94-2.06-.94L8.5 2.5l-.94 2.06-2.06.94zm10 10l.94 2.06.94-2.06 2.06-.94-2.06-.94-.94-2.06-.94 2.06-2.06.94z\"/><path d=\"M17.41 7.96l-1.37-1.37c-.4-.4-.92-.59-1.43-.59-.52 0-1.04.2-1.43.59L10.3 9.45l-7.72 7.72c-.78.78-.78 2.05 0 2.83L4 21.41c.39.39.9.59 1.41.59.51 0 1.02-.2 1.41-.59l7.78-7.78 2.81-2.81c.8-.78.8-2.07 0-2.86zM5.41 20L4 18.59l7.72-7.72 1.47 1.35L5.41 20z\"/>\n",
              "  </svg>\n",
              "      </button>\n",
              "      \n",
              "  <style>\n",
              "    .colab-df-container {\n",
              "      display:flex;\n",
              "      flex-wrap:wrap;\n",
              "      gap: 12px;\n",
              "    }\n",
              "\n",
              "    .colab-df-convert {\n",
              "      background-color: #E8F0FE;\n",
              "      border: none;\n",
              "      border-radius: 50%;\n",
              "      cursor: pointer;\n",
              "      display: none;\n",
              "      fill: #1967D2;\n",
              "      height: 32px;\n",
              "      padding: 0 0 0 0;\n",
              "      width: 32px;\n",
              "    }\n",
              "\n",
              "    .colab-df-convert:hover {\n",
              "      background-color: #E2EBFA;\n",
              "      box-shadow: 0px 1px 2px rgba(60, 64, 67, 0.3), 0px 1px 3px 1px rgba(60, 64, 67, 0.15);\n",
              "      fill: #174EA6;\n",
              "    }\n",
              "\n",
              "    [theme=dark] .colab-df-convert {\n",
              "      background-color: #3B4455;\n",
              "      fill: #D2E3FC;\n",
              "    }\n",
              "\n",
              "    [theme=dark] .colab-df-convert:hover {\n",
              "      background-color: #434B5C;\n",
              "      box-shadow: 0px 1px 3px 1px rgba(0, 0, 0, 0.15);\n",
              "      filter: drop-shadow(0px 1px 2px rgba(0, 0, 0, 0.3));\n",
              "      fill: #FFFFFF;\n",
              "    }\n",
              "  </style>\n",
              "\n",
              "      <script>\n",
              "        const buttonEl =\n",
              "          document.querySelector('#df-49254f05-86fa-4f05-a9d2-99724e8366d4 button.colab-df-convert');\n",
              "        buttonEl.style.display =\n",
              "          google.colab.kernel.accessAllowed ? 'block' : 'none';\n",
              "\n",
              "        async function convertToInteractive(key) {\n",
              "          const element = document.querySelector('#df-49254f05-86fa-4f05-a9d2-99724e8366d4');\n",
              "          const dataTable =\n",
              "            await google.colab.kernel.invokeFunction('convertToInteractive',\n",
              "                                                     [key], {});\n",
              "          if (!dataTable) return;\n",
              "\n",
              "          const docLinkHtml = 'Like what you see? Visit the ' +\n",
              "            '<a target=\"_blank\" href=https://colab.research.google.com/notebooks/data_table.ipynb>data table notebook</a>'\n",
              "            + ' to learn more about interactive tables.';\n",
              "          element.innerHTML = '';\n",
              "          dataTable['output_type'] = 'display_data';\n",
              "          await google.colab.output.renderOutput(dataTable, element);\n",
              "          const docLink = document.createElement('div');\n",
              "          docLink.innerHTML = docLinkHtml;\n",
              "          element.appendChild(docLink);\n",
              "        }\n",
              "      </script>\n",
              "    </div>\n",
              "  </div>\n",
              "  "
            ]
          },
          "metadata": {},
          "execution_count": 35
        }
      ]
    },
    {
      "cell_type": "code",
      "source": [
        "diabetes_dataset.shape"
      ],
      "metadata": {
        "colab": {
          "base_uri": "https://localhost:8080/"
        },
        "id": "8PB-Ii9j4gm4",
        "outputId": "c0797e04-9f16-4c0a-af13-238d2f9dd516"
      },
      "execution_count": 36,
      "outputs": [
        {
          "output_type": "execute_result",
          "data": {
            "text/plain": [
              "(768, 9)"
            ]
          },
          "metadata": {},
          "execution_count": 36
        }
      ]
    },
    {
      "cell_type": "code",
      "source": [
        "diabetes_dataset.describe()"
      ],
      "metadata": {
        "colab": {
          "base_uri": "https://localhost:8080/",
          "height": 300
        },
        "id": "Wrk6tE005S5v",
        "outputId": "2bf990cf-6afa-4f8b-fbc3-e41508587aac"
      },
      "execution_count": 37,
      "outputs": [
        {
          "output_type": "execute_result",
          "data": {
            "text/plain": [
              "       Pregnancies     Glucose  BloodPressure  SkinThickness     Insulin  \\\n",
              "count   768.000000  768.000000     768.000000     768.000000  768.000000   \n",
              "mean      3.845052  120.894531      69.105469      20.536458   79.799479   \n",
              "std       3.369578   31.972618      19.355807      15.952218  115.244002   \n",
              "min       0.000000    0.000000       0.000000       0.000000    0.000000   \n",
              "25%       1.000000   99.000000      62.000000       0.000000    0.000000   \n",
              "50%       3.000000  117.000000      72.000000      23.000000   30.500000   \n",
              "75%       6.000000  140.250000      80.000000      32.000000  127.250000   \n",
              "max      17.000000  199.000000     122.000000      99.000000  846.000000   \n",
              "\n",
              "              BMI  DiabetesPedigreeFunction         Age     Outcome  \n",
              "count  768.000000                768.000000  768.000000  768.000000  \n",
              "mean    31.992578                  0.471876   33.240885    0.348958  \n",
              "std      7.884160                  0.331329   11.760232    0.476951  \n",
              "min      0.000000                  0.078000   21.000000    0.000000  \n",
              "25%     27.300000                  0.243750   24.000000    0.000000  \n",
              "50%     32.000000                  0.372500   29.000000    0.000000  \n",
              "75%     36.600000                  0.626250   41.000000    1.000000  \n",
              "max     67.100000                  2.420000   81.000000    1.000000  "
            ],
            "text/html": [
              "\n",
              "  <div id=\"df-03fc770d-a485-4262-a5e2-3e1f939d3cd3\">\n",
              "    <div class=\"colab-df-container\">\n",
              "      <div>\n",
              "<style scoped>\n",
              "    .dataframe tbody tr th:only-of-type {\n",
              "        vertical-align: middle;\n",
              "    }\n",
              "\n",
              "    .dataframe tbody tr th {\n",
              "        vertical-align: top;\n",
              "    }\n",
              "\n",
              "    .dataframe thead th {\n",
              "        text-align: right;\n",
              "    }\n",
              "</style>\n",
              "<table border=\"1\" class=\"dataframe\">\n",
              "  <thead>\n",
              "    <tr style=\"text-align: right;\">\n",
              "      <th></th>\n",
              "      <th>Pregnancies</th>\n",
              "      <th>Glucose</th>\n",
              "      <th>BloodPressure</th>\n",
              "      <th>SkinThickness</th>\n",
              "      <th>Insulin</th>\n",
              "      <th>BMI</th>\n",
              "      <th>DiabetesPedigreeFunction</th>\n",
              "      <th>Age</th>\n",
              "      <th>Outcome</th>\n",
              "    </tr>\n",
              "  </thead>\n",
              "  <tbody>\n",
              "    <tr>\n",
              "      <th>count</th>\n",
              "      <td>768.000000</td>\n",
              "      <td>768.000000</td>\n",
              "      <td>768.000000</td>\n",
              "      <td>768.000000</td>\n",
              "      <td>768.000000</td>\n",
              "      <td>768.000000</td>\n",
              "      <td>768.000000</td>\n",
              "      <td>768.000000</td>\n",
              "      <td>768.000000</td>\n",
              "    </tr>\n",
              "    <tr>\n",
              "      <th>mean</th>\n",
              "      <td>3.845052</td>\n",
              "      <td>120.894531</td>\n",
              "      <td>69.105469</td>\n",
              "      <td>20.536458</td>\n",
              "      <td>79.799479</td>\n",
              "      <td>31.992578</td>\n",
              "      <td>0.471876</td>\n",
              "      <td>33.240885</td>\n",
              "      <td>0.348958</td>\n",
              "    </tr>\n",
              "    <tr>\n",
              "      <th>std</th>\n",
              "      <td>3.369578</td>\n",
              "      <td>31.972618</td>\n",
              "      <td>19.355807</td>\n",
              "      <td>15.952218</td>\n",
              "      <td>115.244002</td>\n",
              "      <td>7.884160</td>\n",
              "      <td>0.331329</td>\n",
              "      <td>11.760232</td>\n",
              "      <td>0.476951</td>\n",
              "    </tr>\n",
              "    <tr>\n",
              "      <th>min</th>\n",
              "      <td>0.000000</td>\n",
              "      <td>0.000000</td>\n",
              "      <td>0.000000</td>\n",
              "      <td>0.000000</td>\n",
              "      <td>0.000000</td>\n",
              "      <td>0.000000</td>\n",
              "      <td>0.078000</td>\n",
              "      <td>21.000000</td>\n",
              "      <td>0.000000</td>\n",
              "    </tr>\n",
              "    <tr>\n",
              "      <th>25%</th>\n",
              "      <td>1.000000</td>\n",
              "      <td>99.000000</td>\n",
              "      <td>62.000000</td>\n",
              "      <td>0.000000</td>\n",
              "      <td>0.000000</td>\n",
              "      <td>27.300000</td>\n",
              "      <td>0.243750</td>\n",
              "      <td>24.000000</td>\n",
              "      <td>0.000000</td>\n",
              "    </tr>\n",
              "    <tr>\n",
              "      <th>50%</th>\n",
              "      <td>3.000000</td>\n",
              "      <td>117.000000</td>\n",
              "      <td>72.000000</td>\n",
              "      <td>23.000000</td>\n",
              "      <td>30.500000</td>\n",
              "      <td>32.000000</td>\n",
              "      <td>0.372500</td>\n",
              "      <td>29.000000</td>\n",
              "      <td>0.000000</td>\n",
              "    </tr>\n",
              "    <tr>\n",
              "      <th>75%</th>\n",
              "      <td>6.000000</td>\n",
              "      <td>140.250000</td>\n",
              "      <td>80.000000</td>\n",
              "      <td>32.000000</td>\n",
              "      <td>127.250000</td>\n",
              "      <td>36.600000</td>\n",
              "      <td>0.626250</td>\n",
              "      <td>41.000000</td>\n",
              "      <td>1.000000</td>\n",
              "    </tr>\n",
              "    <tr>\n",
              "      <th>max</th>\n",
              "      <td>17.000000</td>\n",
              "      <td>199.000000</td>\n",
              "      <td>122.000000</td>\n",
              "      <td>99.000000</td>\n",
              "      <td>846.000000</td>\n",
              "      <td>67.100000</td>\n",
              "      <td>2.420000</td>\n",
              "      <td>81.000000</td>\n",
              "      <td>1.000000</td>\n",
              "    </tr>\n",
              "  </tbody>\n",
              "</table>\n",
              "</div>\n",
              "      <button class=\"colab-df-convert\" onclick=\"convertToInteractive('df-03fc770d-a485-4262-a5e2-3e1f939d3cd3')\"\n",
              "              title=\"Convert this dataframe to an interactive table.\"\n",
              "              style=\"display:none;\">\n",
              "        \n",
              "  <svg xmlns=\"http://www.w3.org/2000/svg\" height=\"24px\"viewBox=\"0 0 24 24\"\n",
              "       width=\"24px\">\n",
              "    <path d=\"M0 0h24v24H0V0z\" fill=\"none\"/>\n",
              "    <path d=\"M18.56 5.44l.94 2.06.94-2.06 2.06-.94-2.06-.94-.94-2.06-.94 2.06-2.06.94zm-11 1L8.5 8.5l.94-2.06 2.06-.94-2.06-.94L8.5 2.5l-.94 2.06-2.06.94zm10 10l.94 2.06.94-2.06 2.06-.94-2.06-.94-.94-2.06-.94 2.06-2.06.94z\"/><path d=\"M17.41 7.96l-1.37-1.37c-.4-.4-.92-.59-1.43-.59-.52 0-1.04.2-1.43.59L10.3 9.45l-7.72 7.72c-.78.78-.78 2.05 0 2.83L4 21.41c.39.39.9.59 1.41.59.51 0 1.02-.2 1.41-.59l7.78-7.78 2.81-2.81c.8-.78.8-2.07 0-2.86zM5.41 20L4 18.59l7.72-7.72 1.47 1.35L5.41 20z\"/>\n",
              "  </svg>\n",
              "      </button>\n",
              "      \n",
              "  <style>\n",
              "    .colab-df-container {\n",
              "      display:flex;\n",
              "      flex-wrap:wrap;\n",
              "      gap: 12px;\n",
              "    }\n",
              "\n",
              "    .colab-df-convert {\n",
              "      background-color: #E8F0FE;\n",
              "      border: none;\n",
              "      border-radius: 50%;\n",
              "      cursor: pointer;\n",
              "      display: none;\n",
              "      fill: #1967D2;\n",
              "      height: 32px;\n",
              "      padding: 0 0 0 0;\n",
              "      width: 32px;\n",
              "    }\n",
              "\n",
              "    .colab-df-convert:hover {\n",
              "      background-color: #E2EBFA;\n",
              "      box-shadow: 0px 1px 2px rgba(60, 64, 67, 0.3), 0px 1px 3px 1px rgba(60, 64, 67, 0.15);\n",
              "      fill: #174EA6;\n",
              "    }\n",
              "\n",
              "    [theme=dark] .colab-df-convert {\n",
              "      background-color: #3B4455;\n",
              "      fill: #D2E3FC;\n",
              "    }\n",
              "\n",
              "    [theme=dark] .colab-df-convert:hover {\n",
              "      background-color: #434B5C;\n",
              "      box-shadow: 0px 1px 3px 1px rgba(0, 0, 0, 0.15);\n",
              "      filter: drop-shadow(0px 1px 2px rgba(0, 0, 0, 0.3));\n",
              "      fill: #FFFFFF;\n",
              "    }\n",
              "  </style>\n",
              "\n",
              "      <script>\n",
              "        const buttonEl =\n",
              "          document.querySelector('#df-03fc770d-a485-4262-a5e2-3e1f939d3cd3 button.colab-df-convert');\n",
              "        buttonEl.style.display =\n",
              "          google.colab.kernel.accessAllowed ? 'block' : 'none';\n",
              "\n",
              "        async function convertToInteractive(key) {\n",
              "          const element = document.querySelector('#df-03fc770d-a485-4262-a5e2-3e1f939d3cd3');\n",
              "          const dataTable =\n",
              "            await google.colab.kernel.invokeFunction('convertToInteractive',\n",
              "                                                     [key], {});\n",
              "          if (!dataTable) return;\n",
              "\n",
              "          const docLinkHtml = 'Like what you see? Visit the ' +\n",
              "            '<a target=\"_blank\" href=https://colab.research.google.com/notebooks/data_table.ipynb>data table notebook</a>'\n",
              "            + ' to learn more about interactive tables.';\n",
              "          element.innerHTML = '';\n",
              "          dataTable['output_type'] = 'display_data';\n",
              "          await google.colab.output.renderOutput(dataTable, element);\n",
              "          const docLink = document.createElement('div');\n",
              "          docLink.innerHTML = docLinkHtml;\n",
              "          element.appendChild(docLink);\n",
              "        }\n",
              "      </script>\n",
              "    </div>\n",
              "  </div>\n",
              "  "
            ]
          },
          "metadata": {},
          "execution_count": 37
        }
      ]
    },
    {
      "cell_type": "code",
      "source": [
        "diabetes_dataset['Outcome'].value_counts()  # 0 means no diabetes & 1 means unfortunately diabetes"
      ],
      "metadata": {
        "colab": {
          "base_uri": "https://localhost:8080/"
        },
        "id": "Q14FgDq05Z1k",
        "outputId": "13e5a5d0-0c3d-42be-bf01-16bfe52d182b"
      },
      "execution_count": 38,
      "outputs": [
        {
          "output_type": "execute_result",
          "data": {
            "text/plain": [
              "0    500\n",
              "1    268\n",
              "Name: Outcome, dtype: int64"
            ]
          },
          "metadata": {},
          "execution_count": 38
        }
      ]
    },
    {
      "cell_type": "code",
      "source": [
        "diabetes_dataset.groupby('Outcome').mean()"
      ],
      "metadata": {
        "colab": {
          "base_uri": "https://localhost:8080/",
          "height": 143
        },
        "id": "Z4TZwJ7N56hH",
        "outputId": "a7a29452-a209-40a4-857c-123fd9fbb021"
      },
      "execution_count": 39,
      "outputs": [
        {
          "output_type": "execute_result",
          "data": {
            "text/plain": [
              "         Pregnancies     Glucose  BloodPressure  SkinThickness     Insulin  \\\n",
              "Outcome                                                                      \n",
              "0           3.298000  109.980000      68.184000      19.664000   68.792000   \n",
              "1           4.865672  141.257463      70.824627      22.164179  100.335821   \n",
              "\n",
              "               BMI  DiabetesPedigreeFunction        Age  \n",
              "Outcome                                                  \n",
              "0        30.304200                  0.429734  31.190000  \n",
              "1        35.142537                  0.550500  37.067164  "
            ],
            "text/html": [
              "\n",
              "  <div id=\"df-faa1a864-de33-40c6-a7d6-c5215759775c\">\n",
              "    <div class=\"colab-df-container\">\n",
              "      <div>\n",
              "<style scoped>\n",
              "    .dataframe tbody tr th:only-of-type {\n",
              "        vertical-align: middle;\n",
              "    }\n",
              "\n",
              "    .dataframe tbody tr th {\n",
              "        vertical-align: top;\n",
              "    }\n",
              "\n",
              "    .dataframe thead th {\n",
              "        text-align: right;\n",
              "    }\n",
              "</style>\n",
              "<table border=\"1\" class=\"dataframe\">\n",
              "  <thead>\n",
              "    <tr style=\"text-align: right;\">\n",
              "      <th></th>\n",
              "      <th>Pregnancies</th>\n",
              "      <th>Glucose</th>\n",
              "      <th>BloodPressure</th>\n",
              "      <th>SkinThickness</th>\n",
              "      <th>Insulin</th>\n",
              "      <th>BMI</th>\n",
              "      <th>DiabetesPedigreeFunction</th>\n",
              "      <th>Age</th>\n",
              "    </tr>\n",
              "    <tr>\n",
              "      <th>Outcome</th>\n",
              "      <th></th>\n",
              "      <th></th>\n",
              "      <th></th>\n",
              "      <th></th>\n",
              "      <th></th>\n",
              "      <th></th>\n",
              "      <th></th>\n",
              "      <th></th>\n",
              "    </tr>\n",
              "  </thead>\n",
              "  <tbody>\n",
              "    <tr>\n",
              "      <th>0</th>\n",
              "      <td>3.298000</td>\n",
              "      <td>109.980000</td>\n",
              "      <td>68.184000</td>\n",
              "      <td>19.664000</td>\n",
              "      <td>68.792000</td>\n",
              "      <td>30.304200</td>\n",
              "      <td>0.429734</td>\n",
              "      <td>31.190000</td>\n",
              "    </tr>\n",
              "    <tr>\n",
              "      <th>1</th>\n",
              "      <td>4.865672</td>\n",
              "      <td>141.257463</td>\n",
              "      <td>70.824627</td>\n",
              "      <td>22.164179</td>\n",
              "      <td>100.335821</td>\n",
              "      <td>35.142537</td>\n",
              "      <td>0.550500</td>\n",
              "      <td>37.067164</td>\n",
              "    </tr>\n",
              "  </tbody>\n",
              "</table>\n",
              "</div>\n",
              "      <button class=\"colab-df-convert\" onclick=\"convertToInteractive('df-faa1a864-de33-40c6-a7d6-c5215759775c')\"\n",
              "              title=\"Convert this dataframe to an interactive table.\"\n",
              "              style=\"display:none;\">\n",
              "        \n",
              "  <svg xmlns=\"http://www.w3.org/2000/svg\" height=\"24px\"viewBox=\"0 0 24 24\"\n",
              "       width=\"24px\">\n",
              "    <path d=\"M0 0h24v24H0V0z\" fill=\"none\"/>\n",
              "    <path d=\"M18.56 5.44l.94 2.06.94-2.06 2.06-.94-2.06-.94-.94-2.06-.94 2.06-2.06.94zm-11 1L8.5 8.5l.94-2.06 2.06-.94-2.06-.94L8.5 2.5l-.94 2.06-2.06.94zm10 10l.94 2.06.94-2.06 2.06-.94-2.06-.94-.94-2.06-.94 2.06-2.06.94z\"/><path d=\"M17.41 7.96l-1.37-1.37c-.4-.4-.92-.59-1.43-.59-.52 0-1.04.2-1.43.59L10.3 9.45l-7.72 7.72c-.78.78-.78 2.05 0 2.83L4 21.41c.39.39.9.59 1.41.59.51 0 1.02-.2 1.41-.59l7.78-7.78 2.81-2.81c.8-.78.8-2.07 0-2.86zM5.41 20L4 18.59l7.72-7.72 1.47 1.35L5.41 20z\"/>\n",
              "  </svg>\n",
              "      </button>\n",
              "      \n",
              "  <style>\n",
              "    .colab-df-container {\n",
              "      display:flex;\n",
              "      flex-wrap:wrap;\n",
              "      gap: 12px;\n",
              "    }\n",
              "\n",
              "    .colab-df-convert {\n",
              "      background-color: #E8F0FE;\n",
              "      border: none;\n",
              "      border-radius: 50%;\n",
              "      cursor: pointer;\n",
              "      display: none;\n",
              "      fill: #1967D2;\n",
              "      height: 32px;\n",
              "      padding: 0 0 0 0;\n",
              "      width: 32px;\n",
              "    }\n",
              "\n",
              "    .colab-df-convert:hover {\n",
              "      background-color: #E2EBFA;\n",
              "      box-shadow: 0px 1px 2px rgba(60, 64, 67, 0.3), 0px 1px 3px 1px rgba(60, 64, 67, 0.15);\n",
              "      fill: #174EA6;\n",
              "    }\n",
              "\n",
              "    [theme=dark] .colab-df-convert {\n",
              "      background-color: #3B4455;\n",
              "      fill: #D2E3FC;\n",
              "    }\n",
              "\n",
              "    [theme=dark] .colab-df-convert:hover {\n",
              "      background-color: #434B5C;\n",
              "      box-shadow: 0px 1px 3px 1px rgba(0, 0, 0, 0.15);\n",
              "      filter: drop-shadow(0px 1px 2px rgba(0, 0, 0, 0.3));\n",
              "      fill: #FFFFFF;\n",
              "    }\n",
              "  </style>\n",
              "\n",
              "      <script>\n",
              "        const buttonEl =\n",
              "          document.querySelector('#df-faa1a864-de33-40c6-a7d6-c5215759775c button.colab-df-convert');\n",
              "        buttonEl.style.display =\n",
              "          google.colab.kernel.accessAllowed ? 'block' : 'none';\n",
              "\n",
              "        async function convertToInteractive(key) {\n",
              "          const element = document.querySelector('#df-faa1a864-de33-40c6-a7d6-c5215759775c');\n",
              "          const dataTable =\n",
              "            await google.colab.kernel.invokeFunction('convertToInteractive',\n",
              "                                                     [key], {});\n",
              "          if (!dataTable) return;\n",
              "\n",
              "          const docLinkHtml = 'Like what you see? Visit the ' +\n",
              "            '<a target=\"_blank\" href=https://colab.research.google.com/notebooks/data_table.ipynb>data table notebook</a>'\n",
              "            + ' to learn more about interactive tables.';\n",
              "          element.innerHTML = '';\n",
              "          dataTable['output_type'] = 'display_data';\n",
              "          await google.colab.output.renderOutput(dataTable, element);\n",
              "          const docLink = document.createElement('div');\n",
              "          docLink.innerHTML = docLinkHtml;\n",
              "          element.appendChild(docLink);\n",
              "        }\n",
              "      </script>\n",
              "    </div>\n",
              "  </div>\n",
              "  "
            ]
          },
          "metadata": {},
          "execution_count": 39
        }
      ]
    },
    {
      "cell_type": "markdown",
      "source": [
        "## 3) Spliting the labels from the data "
      ],
      "metadata": {
        "id": "dMUTBD7J6wAL"
      }
    },
    {
      "cell_type": "code",
      "source": [
        "X = diabetes_dataset.drop(columns = 'Outcome', axis=1)\n",
        "Y = diabetes_dataset['Outcome']"
      ],
      "metadata": {
        "id": "eolyP_oj67m2"
      },
      "execution_count": 40,
      "outputs": []
    },
    {
      "cell_type": "code",
      "source": [
        ""
      ],
      "metadata": {
        "id": "6lmqqcwp7h98"
      },
      "execution_count": 40,
      "outputs": []
    },
    {
      "cell_type": "markdown",
      "source": [
        "## 4) Data Standrization"
      ],
      "metadata": {
        "id": "oDNnj4NT7ilg"
      }
    },
    {
      "cell_type": "code",
      "source": [
        "scaler = StandardScaler()   # Pro tip use control space for auto complete \n",
        "scaler.fit(X)\n",
        "standardized_data = scaler.transform(X)\n",
        "print(standardized_data)"
      ],
      "metadata": {
        "colab": {
          "base_uri": "https://localhost:8080/"
        },
        "id": "fTEaxUAD7mx4",
        "outputId": "ff56b117-4686-49df-d50c-83936202494f"
      },
      "execution_count": 41,
      "outputs": [
        {
          "output_type": "stream",
          "name": "stdout",
          "text": [
            "[[ 0.63994726  0.84832379  0.14964075 ...  0.20401277  0.46849198\n",
            "   1.4259954 ]\n",
            " [-0.84488505 -1.12339636 -0.16054575 ... -0.68442195 -0.36506078\n",
            "  -0.19067191]\n",
            " [ 1.23388019  1.94372388 -0.26394125 ... -1.10325546  0.60439732\n",
            "  -0.10558415]\n",
            " ...\n",
            " [ 0.3429808   0.00330087  0.14964075 ... -0.73518964 -0.68519336\n",
            "  -0.27575966]\n",
            " [-0.84488505  0.1597866  -0.47073225 ... -0.24020459 -0.37110101\n",
            "   1.17073215]\n",
            " [-0.84488505 -0.8730192   0.04624525 ... -0.20212881 -0.47378505\n",
            "  -0.87137393]]\n"
          ]
        }
      ]
    },
    {
      "cell_type": "code",
      "source": [
        "X = standardized_data\n",
        "print(X)\n",
        "print(80 * '_')\n",
        "print(Y)"
      ],
      "metadata": {
        "colab": {
          "base_uri": "https://localhost:8080/"
        },
        "id": "M5io5WLw8pH2",
        "outputId": "7aaeb358-9eb9-4e04-bdc4-2bcd5d0e62b3"
      },
      "execution_count": 42,
      "outputs": [
        {
          "output_type": "stream",
          "name": "stdout",
          "text": [
            "[[ 0.63994726  0.84832379  0.14964075 ...  0.20401277  0.46849198\n",
            "   1.4259954 ]\n",
            " [-0.84488505 -1.12339636 -0.16054575 ... -0.68442195 -0.36506078\n",
            "  -0.19067191]\n",
            " [ 1.23388019  1.94372388 -0.26394125 ... -1.10325546  0.60439732\n",
            "  -0.10558415]\n",
            " ...\n",
            " [ 0.3429808   0.00330087  0.14964075 ... -0.73518964 -0.68519336\n",
            "  -0.27575966]\n",
            " [-0.84488505  0.1597866  -0.47073225 ... -0.24020459 -0.37110101\n",
            "   1.17073215]\n",
            " [-0.84488505 -0.8730192   0.04624525 ... -0.20212881 -0.47378505\n",
            "  -0.87137393]]\n",
            "________________________________________________________________________________\n",
            "0      1\n",
            "1      0\n",
            "2      1\n",
            "3      0\n",
            "4      1\n",
            "      ..\n",
            "763    0\n",
            "764    0\n",
            "765    0\n",
            "766    1\n",
            "767    0\n",
            "Name: Outcome, Length: 768, dtype: int64\n"
          ]
        }
      ]
    },
    {
      "cell_type": "markdown",
      "source": [
        "## 5) Spliting the data to Train & Test "
      ],
      "metadata": {
        "id": "MgFPdJmg9jWt"
      }
    },
    {
      "cell_type": "code",
      "source": [
        "X_train, X_test,Y_train, Y_test = train_test_split(X,Y, test_size=0.2, stratify=Y, random_state=2)\n",
        "print(X.shape, X_train.shape, X_test.shape)"
      ],
      "metadata": {
        "colab": {
          "base_uri": "https://localhost:8080/"
        },
        "id": "Di4L8lgG85Vi",
        "outputId": "7c4376b5-bd84-4c0c-f253-81662e4fd445"
      },
      "execution_count": 43,
      "outputs": [
        {
          "output_type": "stream",
          "name": "stdout",
          "text": [
            "(768, 8) (614, 8) (154, 8)\n"
          ]
        }
      ]
    },
    {
      "cell_type": "markdown",
      "source": [
        "## 6) training the Support Vector Machine 'SVM' Model"
      ],
      "metadata": {
        "id": "8eUl5Jfa-XhC"
      }
    },
    {
      "cell_type": "markdown",
      "source": [
        "![image.png](data:image/png;base64,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)"
      ],
      "metadata": {
        "id": "k1LVvBGb_XrV"
      }
    },
    {
      "cell_type": "code",
      "source": [
        "# Basically, the kernel SVM projects the non-linearly separable data lower dimensions to linearly separable data in higher dimensions\n",
        "# in such a way that data points belonging to different classes are allocated to different dimensions\n",
        "\n",
        "classifier = svm.SVC(C=1.0, kernel='linear', degree=3, gamma='scale', coef0=0.0, shrinking=True, probability=False, \n",
        "                     tol=0.001, cache_size=200, class_weight=None, verbose=False, max_iter=- 1,\n",
        "                     decision_function_shape='ovr', break_ties=False, random_state=None)  # SVC: Support Vector Classifier\n",
        "classifier.fit(X_train, Y_train)"
      ],
      "metadata": {
        "colab": {
          "base_uri": "https://localhost:8080/"
        },
        "id": "oOeWYqAx-PwT",
        "outputId": "c76cad45-2385-4897-8887-aa2ea8c655e0"
      },
      "execution_count": 53,
      "outputs": [
        {
          "output_type": "execute_result",
          "data": {
            "text/plain": [
              "SVC(kernel='linear')"
            ]
          },
          "metadata": {},
          "execution_count": 53
        }
      ]
    },
    {
      "cell_type": "markdown",
      "source": [
        "## 7) Model Evaluation Using Accuracy Score "
      ],
      "metadata": {
        "id": "XAT0IC-BCn6s"
      }
    },
    {
      "cell_type": "code",
      "source": [
        "X_train_predicton = classifier.predict(X_train)\n",
        "training_data_accuracy = accuracy_score(X_train_predicton, Y_train)\n",
        "print(training_data_accuracy)"
      ],
      "metadata": {
        "colab": {
          "base_uri": "https://localhost:8080/"
        },
        "id": "LRCXQeNpCzjp",
        "outputId": "87bacb7c-05ba-4815-da16-a51b9b4ac418"
      },
      "execution_count": 54,
      "outputs": [
        {
          "output_type": "stream",
          "name": "stdout",
          "text": [
            "0.7866449511400652\n"
          ]
        }
      ]
    },
    {
      "cell_type": "code",
      "source": [
        "X_test_predicton = classifier.predict(X_test)\n",
        "testing_data_accuracy = accuracy_score(X_test_predicton, Y_test)\n",
        "print(testing_data_accuracy)"
      ],
      "metadata": {
        "colab": {
          "base_uri": "https://localhost:8080/"
        },
        "id": "wJB4J8O3EIDj",
        "outputId": "c1bd2d03-0ff3-4b4f-daaa-3fda546e83ab"
      },
      "execution_count": 55,
      "outputs": [
        {
          "output_type": "stream",
          "name": "stdout",
          "text": [
            "0.7727272727272727\n"
          ]
        }
      ]
    },
    {
      "cell_type": "markdown",
      "source": [
        "## 8) Make the Predection System"
      ],
      "metadata": {
        "id": "zjtsmhRIEeJP"
      }
    },
    {
      "cell_type": "code",
      "source": [
        "input_data = (5,116,74,0,0,25.6,0.201,30)\n",
        "input_data_as_numpy_array = np.asanyarray(input_data)\n",
        "input_data_reshaped = input_data_as_numpy_array.reshape(1,-1)\n",
        "# Standarize the input data\n",
        "std_input_data = scaler.transform(input_data_reshaped)\n",
        "\n",
        "prediction = classifier.predict(std_input_data)\n",
        "\n",
        "if prediction== 0 :\n",
        "  print('The person is not diabetic') \n",
        "else:\n",
        "  print('The person is diabetec')                             "
      ],
      "metadata": {
        "colab": {
          "base_uri": "https://localhost:8080/"
        },
        "id": "VgmjkXsFEkVe",
        "outputId": "9981ca85-30f7-45c0-a9c5-62872b752625"
      },
      "execution_count": 64,
      "outputs": [
        {
          "output_type": "stream",
          "name": "stdout",
          "text": [
            "The person is not diabetic\n"
          ]
        },
        {
          "output_type": "stream",
          "name": "stderr",
          "text": [
            "/usr/local/lib/python3.7/dist-packages/sklearn/base.py:451: UserWarning: X does not have valid feature names, but StandardScaler was fitted with feature names\n",
            "  \"X does not have valid feature names, but\"\n"
          ]
        }
      ]
    },
    {
      "cell_type": "code",
      "source": [
        ""
      ],
      "metadata": {
        "id": "hMa_9wLhFz4S"
      },
      "execution_count": null,
      "outputs": []
    }
  ]
}